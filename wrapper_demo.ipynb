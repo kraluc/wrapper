{
 "cells": [
  {
   "cell_type": "code",
   "execution_count": null,
   "metadata": {},
   "outputs": [],
   "source": []
  },
  {
   "cell_type": "markdown",
   "metadata": {},
   "source": [
    "# Wrapper\n",
    "\n",
    "Use case: When collecting debug commands from a switch, it would be nice to have a timestamp and to include the actual command besides the output. In addition, for ease of retrieving it when done, add a comment string such as ### <my command>\n",
    "\n",
    "\n",
    "1. Read content of file containing show commands \"cli.txt\"\n",
    "\n",
    "2. For each nxos <my show command> line generate the following section\n",
    "```python\n",
    "echo \"### <my show command>\" >> $(SWITCHNAME)-logs.txt\n",
    "show clock >> $(SWITCHNAME)-logs.txt\n",
    "<my show command>  >> $(SWITCHNAME)-logs.txt\n",
    "```\n",
    "3. improvement - redirect those outputs to a file (in addition to printing to screen): wrapped_cli.txt\n",
    "  * first line should be an overwrite redirect\n",
    "  * next lines should append to the file\n"
   ]
  },
  {
   "cell_type": "code",
   "execution_count": 1,
   "metadata": {},
   "outputs": [
    {
     "name": "stdout",
     "output_type": "stream",
     "text": [
      "Hello, World!\n"
     ]
    }
   ],
   "source": [
    "# Read content from file\n",
    "print(\"Hello, World!\")"
   ]
  },
  {
   "cell_type": "code",
   "execution_count": null,
   "metadata": {},
   "outputs": [],
   "source": [
    "# Given a string, generate a new block with comment <string> , show clock and <string> "
   ]
  },
  {
   "cell_type": "markdown",
   "metadata": {},
   "source": [
    "### this is a demo"
   ]
  },
  {
   "cell_type": "code",
   "execution_count": 5,
   "metadata": {},
   "outputs": [],
   "source": [
    "command = \"show version\"\n",
    "\n",
    "wrapped_command = \"### %s\" % command\n",
    "wrapped_command += '\\n'  + \"show clock\\n\"\n",
    "wrapped_command += command"
   ]
  },
  {
   "cell_type": "code",
   "execution_count": 6,
   "metadata": {},
   "outputs": [
    {
     "name": "stdout",
     "output_type": "stream",
     "text": [
      "### show version\n",
      "show clock\n",
      "show version\n"
     ]
    }
   ],
   "source": [
    "print(wrapped_command)"
   ]
  },
  {
   "cell_type": "code",
   "execution_count": 9,
   "metadata": {},
   "outputs": [],
   "source": [
    "def wrapper(command: str) -> str:\n",
    "\n",
    "    wrapped_command = \"### %s\" % command\n",
    "    wrapped_command += '\\n'  + \"show clock\\n\"\n",
    "    wrapped_command += command\n",
    "    return wrapped_command"
   ]
  },
  {
   "cell_type": "code",
   "execution_count": 10,
   "metadata": {},
   "outputs": [
    {
     "name": "stdout",
     "output_type": "stream",
     "text": [
      "### show module\n",
      "show clock\n",
      "show module\n"
     ]
    }
   ],
   "source": [
    "print(wrapper(\"show module\"))"
   ]
  },
  {
   "cell_type": "code",
   "execution_count": null,
   "metadata": {},
   "outputs": [],
   "source": []
  }
 ],
 "metadata": {
  "kernelspec": {
   "display_name": "Python 3 (ipykernel)",
   "language": "python",
   "name": "python3"
  },
  "language_info": {
   "codemirror_mode": {
    "name": "ipython",
    "version": 3
   },
   "file_extension": ".py",
   "mimetype": "text/x-python",
   "name": "python",
   "nbconvert_exporter": "python",
   "pygments_lexer": "ipython3",
   "version": "3.10.9"
  }
 },
 "nbformat": 4,
 "nbformat_minor": 2
}
