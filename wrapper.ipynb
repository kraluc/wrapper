{
 "cells": [
  {
   "attachments": {},
   "cell_type": "markdown",
   "metadata": {},
   "source": [
    "# Wrapper\n",
    "\n",
    "Use case: When collecting show commands from a switch for debugging, it would be nice to have a timestamp and to include the actual command besides the output. In addition, to delineate each command sections so that they are easy to find when parsing the results, let's prepend each output with a comment string such as ### <my command>\n",
    "\n",
    "\n",
    "1. Read content of file containing show commands \"cli.txt\"\n",
    "\n",
    "```python\n",
    "        with open(file=\"cli.txt\", mode=\"r\", encoding=\"UTF-8\") as f_read:\n",
    "            first_line = str(f_reader.readline().strip())\n",
    "```\n",
    "\n",
    "2. For each nxos <my show command> line generate the following section\n",
    "\n",
    "```python\n",
    "        echo \"### <my show command>\" >> $(SWITCHNAME)-logs.txt\n",
    "        show clock >> $(SWITCHNAME)-logs.txt\n",
    "        <my show command>  >> $(SWITCHNAME)-logs.txt\n",
    "```\n",
    "\n",
    "3. improvement - redirect those outputs to a file (in addition to printing to screen): wrapped_cli.txt\n",
    "  * first line should be an overwrite redirect\n",
    "  * next lines should append to the file\n",
    "\n",
    "```python\n",
    "        my_stuff = '''\n",
    "        this is an example\n",
    "        '''\n",
    "        with open(file=\"output.txt\", mode=\"w\", encoding=\"UTF-8\") as f_write:\n",
    "            f_write.write(my_stuff)\n",
    "```"
   ]
  },
  {
   "attachments": {},
   "cell_type": "markdown",
   "metadata": {},
   "source": [
    "### 1. Wrap the initial string command"
   ]
  },
  {
   "cell_type": "code",
   "execution_count": 42,
   "metadata": {},
   "outputs": [],
   "source": [
    "# Given a string, generate a new block with comment <string> , show clock and <string> \n",
    "command = \"show version\"\n",
    "\n",
    "wrapped_command = \"\""
   ]
  },
  {
   "cell_type": "code",
   "execution_count": 43,
   "metadata": {},
   "outputs": [
    {
     "name": "stdout",
     "output_type": "stream",
     "text": [
      "echo \"### show version\"\n",
      "show clock\n",
      "show version\n"
     ]
    }
   ],
   "source": [
    "print(wrapped_command)"
   ]
  },
  {
   "attachments": {},
   "cell_type": "markdown",
   "metadata": {},
   "source": [
    "Alternate approach relying on string templating "
   ]
  },
  {
   "cell_type": "code",
   "execution_count": 44,
   "metadata": {},
   "outputs": [
    {
     "name": "stdout",
     "output_type": "stream",
     "text": [
      "echo \"### show version\" >> $(SWITCHNAME)-debugs.txt\n",
      "show clock >> $(SWITCHNAME)-debugs.txt\n",
      "show version >> $(SWITCHNAME)-debugs.txt\n",
      "\n"
     ]
    }
   ],
   "source": [
    "template = '%s >> $(SWITCHNAME)-debugs.txt' + '\\n'\n",
    "\n",
    "# use template to create the wrapped command block\n",
    "wrapped_command = \"\"\n",
    "\n",
    "print(wrapped_command)"
   ]
  },
  {
   "attachments": {},
   "cell_type": "markdown",
   "metadata": {},
   "source": [
    "### 2. Turn it into a function\n",
    "\n",
    "since we plan to re-use this block... we can create a function"
   ]
  },
  {
   "cell_type": "code",
   "execution_count": 45,
   "metadata": {},
   "outputs": [],
   "source": [
    "def wrapper(command: str) -> str:\n",
    "    '''\n",
    "    wrapper:  add comment and clock around the command\n",
    "    '''\n",
    "    #use the previous block of code as the function body\n",
    "    wrapped_command = \"\"\n",
    "    return wrapped_command"
   ]
  },
  {
   "cell_type": "code",
   "execution_count": 46,
   "metadata": {},
   "outputs": [
    {
     "name": "stdout",
     "output_type": "stream",
     "text": [
      "echo \"### show module\" >> $(SWITCHNAME)-debugs.txt\n",
      "show clock >> $(SWITCHNAME)-debugs.txt\n",
      "show module >> $(SWITCHNAME)-debugs.txt\n",
      "\n"
     ]
    }
   ],
   "source": [
    "print(wrapper(\"show module\"))"
   ]
  },
  {
   "attachments": {},
   "cell_type": "markdown",
   "metadata": {},
   "source": [
    "### 3. Read a list of commands from file\n",
    "\n",
    "use ```cli.txt``` for the files were commands are located."
   ]
  },
  {
   "cell_type": "code",
   "execution_count": 47,
   "metadata": {},
   "outputs": [
    {
     "name": "stdout",
     "output_type": "stream",
     "text": [
      "show version\n",
      "show module\n",
      "show logg log\n",
      "\n"
     ]
    }
   ],
   "source": [
    "show_commands_file = 'cli.txt'\n",
    "\n",
    "# Read the commands into *a string* show_commands from show_command_file using with .. as f_read construct\n",
    "show_commands = \"\"\n",
    "\n",
    "# Check the commands\n",
    "print(show_commands)\n"
   ]
  },
  {
   "cell_type": "code",
   "execution_count": 48,
   "metadata": {},
   "outputs": [
    {
     "name": "stdout",
     "output_type": "stream",
     "text": [
      "['show version', 'show module', 'show logg log']\n"
     ]
    }
   ],
   "source": [
    "# Read the commands into a *list of string* show_commands from show_command_file using with .. as f_read construct\n",
    "# Read he commands as a list from a file\n",
    "# Read the commands from file\n",
    "show_commands = \"\"\n",
    "\n",
    "# strip the end of line character with list comprehension\n",
    "show_commands = \"\"\n",
    "\n",
    "# Check the commands\n",
    "print(show_commands)"
   ]
  },
  {
   "attachments": {},
   "cell_type": "markdown",
   "metadata": {},
   "source": [
    "### 4. Wrap the commands"
   ]
  },
  {
   "cell_type": "code",
   "execution_count": 49,
   "metadata": {},
   "outputs": [
    {
     "name": "stdout",
     "output_type": "stream",
     "text": [
      "['echo \"### show version\" >> $(SWITCHNAME)-debugs.txt\\nshow clock >> $(SWITCHNAME)-debugs.txt\\nshow version >> $(SWITCHNAME)-debugs.txt\\n', 'echo \"### show module\" >> $(SWITCHNAME)-debugs.txt\\nshow clock >> $(SWITCHNAME)-debugs.txt\\nshow module >> $(SWITCHNAME)-debugs.txt\\n', 'echo \"### show logg log\" >> $(SWITCHNAME)-debugs.txt\\nshow clock >> $(SWITCHNAME)-debugs.txt\\nshow logg log >> $(SWITCHNAME)-debugs.txt\\n']\n"
     ]
    }
   ],
   "source": [
    "# use function to generate a list of wrapped show commands using list comprehension\n",
    "wrapped_commands = \"\"\n",
    "print(wrapped_commands)"
   ]
  },
  {
   "attachments": {},
   "cell_type": "markdown",
   "metadata": {},
   "source": [
    "### 5. Write strings to file"
   ]
  },
  {
   "cell_type": "code",
   "execution_count": 50,
   "metadata": {},
   "outputs": [
    {
     "data": {
      "text/plain": [
       "True"
      ]
     },
     "execution_count": 50,
     "metadata": {},
     "output_type": "execute_result"
    }
   ],
   "source": [
    "# to assign multiple lines of text to a variable, use the ''' '''\n",
    "example = '''Mod Ports             Module-Type                      Model            Status\n",
    "--- ----- --------------------------------------- --------------------- --------\n",
    "1    54   48x10/25G + 6x40/100G Ethernet Module   N9K-C93180YC-EX       active *\n",
    "\n",
    "Mod  Sw                       Hw    Slot\n",
    "---  ----------------------- ------ ----\n",
    "1    10.3(2)                  3.0    NA\n",
    "\n",
    "\n",
    "Mod  MAC-Address(es)                         Serial-Num\n",
    "---  --------------------------------------  ----------\n",
    "1    00-6b-f1-84-02-90 to 00-6b-f1-84-02-df  FDO20380BNT\n",
    "\n",
    "Mod  Online Diag Status\n",
    "---  ------------------\n",
    "1    Pass\n",
    "\n",
    "* this terminal session\n",
    "'''\n",
    "\n",
    "output_file = 'show_module.txt'\n",
    "\n",
    "# write this output to file using with ... as f_write construct\n",
    "\n",
    "\n",
    "# Check file was created (import os and then check os.path.isfile)\n",
    "import os\n",
    "# print(os.path.abspath(os.curdir))\n",
    "os.path.isfile(output_file)\n",
    "\n"
   ]
  },
  {
   "cell_type": "code",
   "execution_count": 51,
   "metadata": {},
   "outputs": [],
   "source": [
    "### 6. Save the wrapper commands to file \"wrapped_clis.txt\"\n",
    "output_file = \"wrapped_clis.txt\"\n",
    "\n"
   ]
  },
  {
   "cell_type": "code",
   "execution_count": 52,
   "metadata": {},
   "outputs": [
    {
     "data": {
      "text/plain": [
       "True"
      ]
     },
     "execution_count": 52,
     "metadata": {},
     "output_type": "execute_result"
    }
   ],
   "source": [
    "os.path.isfile(output_file)"
   ]
  }
 ],
 "metadata": {
  "kernelspec": {
   "display_name": "Python 3 (ipykernel)",
   "language": "python",
   "name": "python3"
  },
  "language_info": {
   "codemirror_mode": {
    "name": "ipython",
    "version": 3
   },
   "file_extension": ".py",
   "mimetype": "text/x-python",
   "name": "python",
   "nbconvert_exporter": "python",
   "pygments_lexer": "ipython3",
   "version": "3.10.9"
  }
 },
 "nbformat": 4,
 "nbformat_minor": 2
}
