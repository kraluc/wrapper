{
 "cells": [
  {
   "cell_type": "code",
   "execution_count": null,
   "metadata": {},
   "outputs": [],
   "source": []
  },
  {
   "attachments": {},
   "cell_type": "markdown",
   "metadata": {},
   "source": [
    "# Wrapper\n",
    "\n",
    "Use case: When collecting debug commands from a switch, it would be nice to have a timestamp and to include the actual command besides the output. In addition, for ease of retrieving it when done, add a comment string such as ### <my command>\n",
    "\n",
    "\n",
    "1. Read content of file containing show commands \"cli.txt\"\n",
    "\n",
    "2. For each nxos <my show command> line generate the following section\n",
    "```python\n",
    "echo \"### <my show command>\" >> $(SWITCHNAME)-logs.txt\n",
    "show clock >> $(SWITCHNAME)-logs.txt\n",
    "<my show command>  >> $(SWITCHNAME)-logs.txt\n",
    "```\n",
    "3. improvement - redirect those outputs to a file (in addition to printing to screen): wrapped_cli.txt\n",
    "  * first line should be an overwrite redirect\n",
    "  * next lines should append to the file\n"
   ]
  },
  {
   "cell_type": "code",
   "execution_count": null,
   "metadata": {},
   "outputs": [],
   "source": [
    "# Read content from file"
   ]
  },
  {
   "cell_type": "code",
   "execution_count": null,
   "metadata": {},
   "outputs": [],
   "source": [
    "# Given a string, generate a new block with comment <string> , show clock and <string> "
   ]
  }
 ],
 "metadata": {
  "language_info": {
   "name": "python"
  },
  "orig_nbformat": 4
 },
 "nbformat": 4,
 "nbformat_minor": 2
}
