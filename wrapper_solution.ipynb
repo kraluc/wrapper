{
 "cells": [
  {
   "attachments": {},
   "cell_type": "markdown",
   "metadata": {},
   "source": [
    "# Wrapper\n",
    "\n",
    "Use case: When collecting show commands from a switch for debugging, it would be nice to have a timestamp and to include the actual command besides the output. In addition, to delineate each command sections so that they are easy to find when parsing the results, let's prepend each output with a comment string such as ### <my command>\n",
    "\n",
    "\n",
    "1. Read content of file containing show commands \"cli.txt\"\n",
    "\n",
    "```python\n",
    "        with open(file=\"cli.txt\", mode=\"r\", encoding=\"UTF-8\") as f_read:\n",
    "            first_line = str(f_reader.readline().strip())\n",
    "```\n",
    "\n",
    "2. For each nxos <my show command> line generate the following section\n",
    "\n",
    "```python\n",
    "        echo \"### <my show command>\" >> $(SWITCHNAME)-logs.txt\n",
    "        show clock >> $(SWITCHNAME)-logs.txt\n",
    "        <my show command>  >> $(SWITCHNAME)-logs.txt\n",
    "```\n",
    "\n",
    "3. improvement - redirect those outputs to a file (in addition to printing to screen): wrapped_cli.txt\n",
    "  * first line should be an overwrite redirect\n",
    "  * next lines should append to the file\n",
    "\n",
    "```python\n",
    "        my_stuff = '''\n",
    "        this is an example\n",
    "        '''\n",
    "        with open(file=\"output.txt\", mode=\"w\", encoding=\"UTF-8\") as f_write:\n",
    "            f_write.write(my_stuff)\n",
    "```"
   ]
  },
  {
   "attachments": {},
   "cell_type": "markdown",
   "metadata": {},
   "source": [
    "### 1. Wrap the initial string command"
   ]
  },
  {
   "cell_type": "code",
   "execution_count": 3,
   "metadata": {},
   "outputs": [],
   "source": [
    "# Given a string, generate a new block with comment <string> , show clock and <string> \n",
    "command = \"show version\"\n",
    "\n",
    "wrapped_command = \"### %s\" % command\n",
    "wrapped_command += '\\n'  + \"show clock\\n\"\n",
    "wrapped_command += command"
   ]
  },
  {
   "cell_type": "code",
   "execution_count": 4,
   "metadata": {},
   "outputs": [
    {
     "name": "stdout",
     "output_type": "stream",
     "text": [
      "### show version\n",
      "show clock\n",
      "show version\n"
     ]
    }
   ],
   "source": [
    "print(wrapped_command)"
   ]
  },
  {
   "attachments": {},
   "cell_type": "markdown",
   "metadata": {},
   "source": [
    "### 2. Turn it into a function\n",
    "\n",
    "since we plan to re-use this block... we can create a function"
   ]
  },
  {
   "cell_type": "code",
   "execution_count": 5,
   "metadata": {},
   "outputs": [],
   "source": [
    "def wrapper(command: str) -> str:\n",
    "    # first line is a comment showing the command name\n",
    "    wrapped_command = \"### %s\" % command + '\\n'\n",
    "    wrapped_command += \"show clock\" + '\\n'\n",
    "    wrapped_command += command\n",
    "    return wrapped_command"
   ]
  },
  {
   "cell_type": "code",
   "execution_count": 6,
   "metadata": {},
   "outputs": [
    {
     "name": "stdout",
     "output_type": "stream",
     "text": [
      "### show module\n",
      "show clock\n",
      "show module\n"
     ]
    }
   ],
   "source": [
    "print(wrapper(\"show module\"))"
   ]
  },
  {
   "attachments": {},
   "cell_type": "markdown",
   "metadata": {},
   "source": [
    "### 3. Read a list of commands from file\n",
    "\n",
    "use ```cli.txt``` for the files were commands are located."
   ]
  },
  {
   "cell_type": "code",
   "execution_count": 11,
   "metadata": {},
   "outputs": [
    {
     "name": "stdout",
     "output_type": "stream",
     "text": [
      "['show version\\n', 'show module\\n', 'show logg log']\n",
      "['show version', 'show module', 'show logg log']\n"
     ]
    }
   ],
   "source": [
    "show_commands_file = 'cli.txt'\n",
    "\n",
    "# Read the commands\n",
    "with open(file=show_commands_file, mode='r', encoding='UTF-8') as f_read:\n",
    "    # readlines automatically split the lines into a list\n",
    "    show_commands = f_read.readlines()\n",
    "\n",
    "# Check the commands\n",
    "print(show_commands)\n",
    "\n",
    "# remove the end of line character\n",
    "show_commands = [ cli.strip() for cli in show_commands]\n",
    "\n",
    "# Check the commands again\n",
    "print(show_commands)\n"
   ]
  },
  {
   "attachments": {},
   "cell_type": "markdown",
   "metadata": {},
   "source": [
    "### 4. Wrap the commands"
   ]
  },
  {
   "cell_type": "code",
   "execution_count": 12,
   "metadata": {},
   "outputs": [
    {
     "name": "stdout",
     "output_type": "stream",
     "text": [
      "['### show version\\nshow clock\\nshow version', '### show module\\nshow clock\\nshow module', '### show logg log\\nshow clock\\nshow logg log']\n"
     ]
    }
   ],
   "source": [
    "# need to remove the end of line character '\\n' from the c\n",
    "wrapped_commands = [ wrapper(cli) for cli in show_commands ]\n",
    "print(wrapped_commands)"
   ]
  },
  {
   "attachments": {},
   "cell_type": "markdown",
   "metadata": {},
   "source": [
    "### 5. Write strings to file"
   ]
  },
  {
   "cell_type": "code",
   "execution_count": 17,
   "metadata": {},
   "outputs": [
    {
     "data": {
      "text/plain": [
       "True"
      ]
     },
     "execution_count": 17,
     "metadata": {},
     "output_type": "execute_result"
    }
   ],
   "source": [
    "# to assign multiple lines of text to a variable, use the ''' '''\n",
    "example = '''LEAF47# sh module\n",
    "Mod Ports             Module-Type                      Model            Status\n",
    "--- ----- --------------------------------------- --------------------- --------\n",
    "1    54   48x10/25G + 6x40/100G Ethernet Module   N9K-C93180YC-EX       active *\n",
    "\n",
    "Mod  Sw                       Hw    Slot\n",
    "---  ----------------------- ------ ----\n",
    "1    10.3(2)                  3.0    NA\n",
    "\n",
    "\n",
    "Mod  MAC-Address(es)                         Serial-Num\n",
    "---  --------------------------------------  ----------\n",
    "1    00-6b-f1-84-02-90 to 00-6b-f1-84-02-df  FDO20380BNT\n",
    "\n",
    "Mod  Online Diag Status\n",
    "---  ------------------\n",
    "1    Pass\n",
    "\n",
    "* this terminal session\n",
    "'''\n",
    "\n",
    "output_file = 'show_module.txt'\n",
    "\n",
    "# write this output to file\n",
    "with open(file=output_file, mode='w', encoding='UTF-8') as f_write:\n",
    "    f_write.write(example)\n",
    "\n",
    "# Check file was created\n",
    "import os\n",
    "os.path.isfile(output_file)\n"
   ]
  },
  {
   "cell_type": "code",
   "execution_count": 25,
   "metadata": {},
   "outputs": [
    {
     "name": "stdout",
     "output_type": "stream",
     "text": [
      "multiple lines:\n",
      "['LEAF47# sh module\\n', 'Mod Ports             Module-Type                      Model            Status\\n', '--- ----- --------------------------------------- --------------------- --------\\n', '1    54   48x10/25G + 6x40/100G Ethernet Module   N9K-C93180YC-EX       active *\\n', '\\n', 'Mod  Sw                       Hw    Slot\\n', '---  ----------------------- ------ ----\\n', '1    10.3(2)                  3.0    NA\\n', '\\n', '\\n', 'Mod  MAC-Address(es)                         Serial-Num\\n', '---  --------------------------------------  ----------\\n', '1    00-6b-f1-84-02-90 to 00-6b-f1-84-02-df  FDO20380BNT\\n', '\\n', 'Mod  Online Diag Status\\n', '---  ------------------\\n', '1    Pass\\n', '\\n', '* this terminal session\\n']\n"
     ]
    }
   ],
   "source": [
    "# Verify output with readlines (split the output into a list of individual lines including '\\n')\n",
    "with open(file=output_file, mode='r', encoding='UTF-8') as f_read:\n",
    "    # readlines automatically split the lines into a list\n",
    "    multiple_lines = f_read.readlines()\n",
    "    one_section = f_read.readline()\n",
    "\n",
    "print(\"multiple lines:\")\n",
    "print(multiple_lines)\n"
   ]
  },
  {
   "cell_type": "code",
   "execution_count": 24,
   "metadata": {},
   "outputs": [
    {
     "name": "stdout",
     "output_type": "stream",
     "text": [
      "LEAF47# sh module\n",
      "\n"
     ]
    }
   ],
   "source": [
    "with open(file=output_file, mode='r', encoding='UTF-8') as f_read:\n",
    "    first_line = f_read.readline()\n",
    "    print(first_line)"
   ]
  }
 ],
 "metadata": {
  "kernelspec": {
   "display_name": "Python 3 (ipykernel)",
   "language": "python",
   "name": "python3"
  },
  "language_info": {
   "codemirror_mode": {
    "name": "ipython",
    "version": 3
   },
   "file_extension": ".py",
   "mimetype": "text/x-python",
   "name": "python",
   "nbconvert_exporter": "python",
   "pygments_lexer": "ipython3",
   "version": "3.10.9"
  }
 },
 "nbformat": 4,
 "nbformat_minor": 2
}
